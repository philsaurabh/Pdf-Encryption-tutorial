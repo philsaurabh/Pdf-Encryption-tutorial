{
  "nbformat": 4,
  "nbformat_minor": 0,
  "metadata": {
    "colab": {
      "name": "Pdf Encryption.ipynb",
      "provenance": [],
      "authorship_tag": "ABX9TyMRtXMOS5M8WUW0WDMSxfMy",
      "include_colab_link": true
    },
    "kernelspec": {
      "name": "python3",
      "display_name": "Python 3"
    }
  },
  "cells": [
    {
      "cell_type": "markdown",
      "metadata": {
        "id": "view-in-github",
        "colab_type": "text"
      },
      "source": [
        "<a href=\"https://colab.research.google.com/github/philsaurabh/Pdf-Encryption-tutorial/blob/main/Pdf_Encryption.ipynb\" target=\"_parent\"><img src=\"https://colab.research.google.com/assets/colab-badge.svg\" alt=\"Open In Colab\"/></a>"
      ]
    },
    {
      "cell_type": "markdown",
      "metadata": {
        "id": "lIhvlBHWRb64"
      },
      "source": [
        "Inspired from Krish Naik sir's Tutorial\r\n",
        "\r\n"
      ]
    },
    {
      "cell_type": "code",
      "metadata": {
        "id": "5uWPzYgpQAdC"
      },
      "source": [
        "import PyPDF2"
      ],
      "execution_count": 1,
      "outputs": []
    },
    {
      "cell_type": "code",
      "metadata": {
        "id": "ay5u6Mj5QQhm"
      },
      "source": [
        "### open the current pdf\r\n",
        "file=PyPDF2.PdfFileReader('test.pdf')\r\n",
        "### Object for pdf writer\r\n",
        "out_pdf=PyPDF2.PdfFileWriter()"
      ],
      "execution_count": 4,
      "outputs": []
    },
    {
      "cell_type": "code",
      "metadata": {
        "colab": {
          "base_uri": "https://localhost:8080/"
        },
        "id": "I_7_zmZxQvvv",
        "outputId": "6a8fcf2a-47cd-4a3b-9ebd-c48e70ce8be7"
      },
      "source": [
        "file"
      ],
      "execution_count": 5,
      "outputs": [
        {
          "output_type": "execute_result",
          "data": {
            "text/plain": [
              "<PyPDF2.pdf.PdfFileReader at 0x7f4693ac51d0>"
            ]
          },
          "metadata": {
            "tags": []
          },
          "execution_count": 5
        }
      ]
    },
    {
      "cell_type": "code",
      "metadata": {
        "id": "k3IAWEwaQ4k3"
      },
      "source": [
        "for i in range(file.numPages):\r\n",
        "    page_details=file.getPage(i)\r\n",
        "    ### Add to the output page\r\n",
        "    out_pdf.addPage(page_details)"
      ],
      "execution_count": 6,
      "outputs": []
    },
    {
      "cell_type": "code",
      "metadata": {
        "id": "bzBTlZFMRAtK"
      },
      "source": [
        "password=\"pass@123\"\r\n",
        "\r\n",
        "out_pdf.encrypt(password)"
      ],
      "execution_count": 7,
      "outputs": []
    },
    {
      "cell_type": "code",
      "metadata": {
        "id": "_Z9gdPR4RGtz"
      },
      "source": [
        "with open(\"encryptedtest.pdf\",\"wb\") as filename:\r\n",
        "    out_pdf.write(filename)"
      ],
      "execution_count": 9,
      "outputs": []
    }
  ]
}